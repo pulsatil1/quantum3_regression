{
 "cells": [
  {
   "cell_type": "code",
   "execution_count": 1,
   "id": "dc2d39bd",
   "metadata": {
    "ExecuteTime": {
     "end_time": "2023-03-11T12:39:33.747288Z",
     "start_time": "2023-03-11T12:39:32.718716Z"
    }
   },
   "outputs": [],
   "source": [
    "import pandas as pd\n",
    "import numpy as np\n",
    "\n",
    "from scipy import stats\n",
    "\n",
    "import seaborn as sns\n",
    "import matplotlib.pyplot as plt\n",
    "\n",
    "from sklearn.preprocessing import StandardScaler\n",
    "from sklearn.model_selection import train_test_split, StratifiedKFold, cross_val_score, GridSearchCV\n",
    "from sklearn.metrics import mean_squared_error\n",
    "\n",
    "import warnings\n",
    "warnings.filterwarnings('ignore')"
   ]
  },
  {
   "cell_type": "code",
   "execution_count": 2,
   "id": "0a17c2f8",
   "metadata": {
    "ExecuteTime": {
     "end_time": "2023-03-11T12:39:41.074406Z",
     "start_time": "2023-03-11T12:39:41.071440Z"
    }
   },
   "outputs": [],
   "source": [
    "test_size = 0.2\n",
    "random_state = 29"
   ]
  },
  {
   "cell_type": "markdown",
   "id": "829d455f",
   "metadata": {},
   "source": [
    "## Downloading data"
   ]
  },
  {
   "cell_type": "code",
   "execution_count": 3,
   "id": "d20046a2",
   "metadata": {
    "ExecuteTime": {
     "end_time": "2023-03-11T12:39:41.739550Z",
     "start_time": "2023-03-11T12:39:41.076361Z"
    }
   },
   "outputs": [],
   "source": [
    "df = pd.read_csv('../data/internship_train.csv')\n",
    "df_test = pd.read_csv('../data/internship_hidden_test.csv')"
   ]
  },
  {
   "cell_type": "code",
   "execution_count": 4,
   "id": "a45273d1",
   "metadata": {
    "ExecuteTime": {
     "end_time": "2023-03-11T12:39:41.757382Z",
     "start_time": "2023-03-11T12:39:41.740902Z"
    }
   },
   "outputs": [
    {
     "data": {
      "text/html": [
       "<div>\n",
       "<style scoped>\n",
       "    .dataframe tbody tr th:only-of-type {\n",
       "        vertical-align: middle;\n",
       "    }\n",
       "\n",
       "    .dataframe tbody tr th {\n",
       "        vertical-align: top;\n",
       "    }\n",
       "\n",
       "    .dataframe thead th {\n",
       "        text-align: right;\n",
       "    }\n",
       "</style>\n",
       "<table border=\"1\" class=\"dataframe\">\n",
       "  <thead>\n",
       "    <tr style=\"text-align: right;\">\n",
       "      <th></th>\n",
       "      <th>0</th>\n",
       "      <th>1</th>\n",
       "      <th>2</th>\n",
       "      <th>3</th>\n",
       "      <th>4</th>\n",
       "      <th>5</th>\n",
       "      <th>6</th>\n",
       "      <th>7</th>\n",
       "      <th>8</th>\n",
       "      <th>9</th>\n",
       "      <th>...</th>\n",
       "      <th>44</th>\n",
       "      <th>45</th>\n",
       "      <th>46</th>\n",
       "      <th>47</th>\n",
       "      <th>48</th>\n",
       "      <th>49</th>\n",
       "      <th>50</th>\n",
       "      <th>51</th>\n",
       "      <th>52</th>\n",
       "      <th>target</th>\n",
       "    </tr>\n",
       "  </thead>\n",
       "  <tbody>\n",
       "    <tr>\n",
       "      <th>0</th>\n",
       "      <td>236</td>\n",
       "      <td>488</td>\n",
       "      <td>16</td>\n",
       "      <td>221</td>\n",
       "      <td>382</td>\n",
       "      <td>97</td>\n",
       "      <td>-4.472136</td>\n",
       "      <td>0.107472</td>\n",
       "      <td>0</td>\n",
       "      <td>132</td>\n",
       "      <td>...</td>\n",
       "      <td>13.340874</td>\n",
       "      <td>0.870542</td>\n",
       "      <td>1.962937</td>\n",
       "      <td>7.466666</td>\n",
       "      <td>11.547794</td>\n",
       "      <td>8.822916</td>\n",
       "      <td>9.046424</td>\n",
       "      <td>7.895535</td>\n",
       "      <td>11.010677</td>\n",
       "      <td>20.107472</td>\n",
       "    </tr>\n",
       "    <tr>\n",
       "      <th>1</th>\n",
       "      <td>386</td>\n",
       "      <td>206</td>\n",
       "      <td>357</td>\n",
       "      <td>232</td>\n",
       "      <td>1</td>\n",
       "      <td>198</td>\n",
       "      <td>7.810250</td>\n",
       "      <td>0.763713</td>\n",
       "      <td>1</td>\n",
       "      <td>143</td>\n",
       "      <td>...</td>\n",
       "      <td>12.484882</td>\n",
       "      <td>7.168680</td>\n",
       "      <td>2.885415</td>\n",
       "      <td>12.413973</td>\n",
       "      <td>10.260494</td>\n",
       "      <td>10.091351</td>\n",
       "      <td>9.270888</td>\n",
       "      <td>3.173994</td>\n",
       "      <td>13.921871</td>\n",
       "      <td>61.763713</td>\n",
       "    </tr>\n",
       "    <tr>\n",
       "      <th>2</th>\n",
       "      <td>429</td>\n",
       "      <td>49</td>\n",
       "      <td>481</td>\n",
       "      <td>111</td>\n",
       "      <td>111</td>\n",
       "      <td>146</td>\n",
       "      <td>8.602325</td>\n",
       "      <td>0.651162</td>\n",
       "      <td>1</td>\n",
       "      <td>430</td>\n",
       "      <td>...</td>\n",
       "      <td>14.030257</td>\n",
       "      <td>0.394970</td>\n",
       "      <td>8.160625</td>\n",
       "      <td>12.592059</td>\n",
       "      <td>8.937577</td>\n",
       "      <td>2.265191</td>\n",
       "      <td>11.255721</td>\n",
       "      <td>12.794841</td>\n",
       "      <td>12.080951</td>\n",
       "      <td>74.651162</td>\n",
       "    </tr>\n",
       "    <tr>\n",
       "      <th>3</th>\n",
       "      <td>414</td>\n",
       "      <td>350</td>\n",
       "      <td>481</td>\n",
       "      <td>370</td>\n",
       "      <td>208</td>\n",
       "      <td>158</td>\n",
       "      <td>8.306624</td>\n",
       "      <td>0.424645</td>\n",
       "      <td>1</td>\n",
       "      <td>340</td>\n",
       "      <td>...</td>\n",
       "      <td>2.789577</td>\n",
       "      <td>6.416708</td>\n",
       "      <td>10.549814</td>\n",
       "      <td>11.456437</td>\n",
       "      <td>6.468099</td>\n",
       "      <td>2.519049</td>\n",
       "      <td>0.258284</td>\n",
       "      <td>9.317696</td>\n",
       "      <td>5.383098</td>\n",
       "      <td>69.424645</td>\n",
       "    </tr>\n",
       "    <tr>\n",
       "      <th>4</th>\n",
       "      <td>318</td>\n",
       "      <td>359</td>\n",
       "      <td>20</td>\n",
       "      <td>218</td>\n",
       "      <td>317</td>\n",
       "      <td>301</td>\n",
       "      <td>8.124038</td>\n",
       "      <td>0.767304</td>\n",
       "      <td>1</td>\n",
       "      <td>212</td>\n",
       "      <td>...</td>\n",
       "      <td>1.886560</td>\n",
       "      <td>1.919999</td>\n",
       "      <td>2.268203</td>\n",
       "      <td>0.149421</td>\n",
       "      <td>4.105907</td>\n",
       "      <td>10.416291</td>\n",
       "      <td>6.816217</td>\n",
       "      <td>8.586960</td>\n",
       "      <td>4.512419</td>\n",
       "      <td>66.767304</td>\n",
       "    </tr>\n",
       "  </tbody>\n",
       "</table>\n",
       "<p>5 rows × 54 columns</p>\n",
       "</div>"
      ],
      "text/plain": [
       "     0    1    2    3    4    5         6         7  8    9  ...         44  \\\n",
       "0  236  488   16  221  382   97 -4.472136  0.107472  0  132  ...  13.340874   \n",
       "1  386  206  357  232    1  198  7.810250  0.763713  1  143  ...  12.484882   \n",
       "2  429   49  481  111  111  146  8.602325  0.651162  1  430  ...  14.030257   \n",
       "3  414  350  481  370  208  158  8.306624  0.424645  1  340  ...   2.789577   \n",
       "4  318  359   20  218  317  301  8.124038  0.767304  1  212  ...   1.886560   \n",
       "\n",
       "         45         46         47         48         49         50         51  \\\n",
       "0  0.870542   1.962937   7.466666  11.547794   8.822916   9.046424   7.895535   \n",
       "1  7.168680   2.885415  12.413973  10.260494  10.091351   9.270888   3.173994   \n",
       "2  0.394970   8.160625  12.592059   8.937577   2.265191  11.255721  12.794841   \n",
       "3  6.416708  10.549814  11.456437   6.468099   2.519049   0.258284   9.317696   \n",
       "4  1.919999   2.268203   0.149421   4.105907  10.416291   6.816217   8.586960   \n",
       "\n",
       "          52     target  \n",
       "0  11.010677  20.107472  \n",
       "1  13.921871  61.763713  \n",
       "2  12.080951  74.651162  \n",
       "3   5.383098  69.424645  \n",
       "4   4.512419  66.767304  \n",
       "\n",
       "[5 rows x 54 columns]"
      ]
     },
     "execution_count": 4,
     "metadata": {},
     "output_type": "execute_result"
    }
   ],
   "source": [
    "df.head()"
   ]
  },
  {
   "cell_type": "markdown",
   "id": "1eb151b8",
   "metadata": {},
   "source": [
    "## Data preprocessing"
   ]
  },
  {
   "cell_type": "code",
   "execution_count": 5,
   "id": "9fb33a66",
   "metadata": {
    "ExecuteTime": {
     "end_time": "2023-03-11T12:39:41.777384Z",
     "start_time": "2023-03-11T12:39:41.759393Z"
    }
   },
   "outputs": [
    {
     "name": "stdout",
     "output_type": "stream",
     "text": [
      "<class 'pandas.core.frame.DataFrame'>\n",
      "RangeIndex: 90000 entries, 0 to 89999\n",
      "Data columns (total 54 columns):\n",
      " #   Column  Non-Null Count  Dtype  \n",
      "---  ------  --------------  -----  \n",
      " 0   0       90000 non-null  int64  \n",
      " 1   1       90000 non-null  int64  \n",
      " 2   2       90000 non-null  int64  \n",
      " 3   3       90000 non-null  int64  \n",
      " 4   4       90000 non-null  int64  \n",
      " 5   5       90000 non-null  int64  \n",
      " 6   6       90000 non-null  float64\n",
      " 7   7       90000 non-null  float64\n",
      " 8   8       90000 non-null  int64  \n",
      " 9   9       90000 non-null  int64  \n",
      " 10  10      90000 non-null  int64  \n",
      " 11  11      90000 non-null  int64  \n",
      " 12  12      90000 non-null  int64  \n",
      " 13  13      90000 non-null  float64\n",
      " 14  14      90000 non-null  float64\n",
      " 15  15      90000 non-null  float64\n",
      " 16  16      90000 non-null  float64\n",
      " 17  17      90000 non-null  float64\n",
      " 18  18      90000 non-null  float64\n",
      " 19  19      90000 non-null  float64\n",
      " 20  20      90000 non-null  float64\n",
      " 21  21      90000 non-null  float64\n",
      " 22  22      90000 non-null  float64\n",
      " 23  23      90000 non-null  float64\n",
      " 24  24      90000 non-null  float64\n",
      " 25  25      90000 non-null  float64\n",
      " 26  26      90000 non-null  float64\n",
      " 27  27      90000 non-null  float64\n",
      " 28  28      90000 non-null  float64\n",
      " 29  29      90000 non-null  float64\n",
      " 30  30      90000 non-null  float64\n",
      " 31  31      90000 non-null  float64\n",
      " 32  32      90000 non-null  float64\n",
      " 33  33      90000 non-null  float64\n",
      " 34  34      90000 non-null  float64\n",
      " 35  35      90000 non-null  float64\n",
      " 36  36      90000 non-null  float64\n",
      " 37  37      90000 non-null  float64\n",
      " 38  38      90000 non-null  float64\n",
      " 39  39      90000 non-null  float64\n",
      " 40  40      90000 non-null  float64\n",
      " 41  41      90000 non-null  float64\n",
      " 42  42      90000 non-null  float64\n",
      " 43  43      90000 non-null  float64\n",
      " 44  44      90000 non-null  float64\n",
      " 45  45      90000 non-null  float64\n",
      " 46  46      90000 non-null  float64\n",
      " 47  47      90000 non-null  float64\n",
      " 48  48      90000 non-null  float64\n",
      " 49  49      90000 non-null  float64\n",
      " 50  50      90000 non-null  float64\n",
      " 51  51      90000 non-null  float64\n",
      " 52  52      90000 non-null  float64\n",
      " 53  target  90000 non-null  float64\n",
      "dtypes: float64(43), int64(11)\n",
      "memory usage: 37.1 MB\n"
     ]
    }
   ],
   "source": [
    "df.info()"
   ]
  },
  {
   "cell_type": "code",
   "execution_count": 6,
   "id": "568e809b",
   "metadata": {
    "ExecuteTime": {
     "end_time": "2023-03-11T12:39:41.782540Z",
     "start_time": "2023-03-11T12:39:41.778651Z"
    }
   },
   "outputs": [
    {
     "data": {
      "text/plain": [
       "(90000, 54)"
      ]
     },
     "execution_count": 6,
     "metadata": {},
     "output_type": "execute_result"
    }
   ],
   "source": [
    "df.shape"
   ]
  },
  {
   "cell_type": "code",
   "execution_count": 7,
   "id": "d44f1371",
   "metadata": {
    "ExecuteTime": {
     "end_time": "2023-03-11T12:39:41.945468Z",
     "start_time": "2023-03-11T12:39:41.783828Z"
    }
   },
   "outputs": [
    {
     "data": {
      "text/html": [
       "<div>\n",
       "<style scoped>\n",
       "    .dataframe tbody tr th:only-of-type {\n",
       "        vertical-align: middle;\n",
       "    }\n",
       "\n",
       "    .dataframe tbody tr th {\n",
       "        vertical-align: top;\n",
       "    }\n",
       "\n",
       "    .dataframe thead th {\n",
       "        text-align: right;\n",
       "    }\n",
       "</style>\n",
       "<table border=\"1\" class=\"dataframe\">\n",
       "  <thead>\n",
       "    <tr style=\"text-align: right;\">\n",
       "      <th></th>\n",
       "      <th>6</th>\n",
       "      <th>7</th>\n",
       "      <th>13</th>\n",
       "      <th>14</th>\n",
       "      <th>15</th>\n",
       "      <th>16</th>\n",
       "      <th>17</th>\n",
       "      <th>18</th>\n",
       "      <th>19</th>\n",
       "      <th>20</th>\n",
       "      <th>...</th>\n",
       "      <th>44</th>\n",
       "      <th>45</th>\n",
       "      <th>46</th>\n",
       "      <th>47</th>\n",
       "      <th>48</th>\n",
       "      <th>49</th>\n",
       "      <th>50</th>\n",
       "      <th>51</th>\n",
       "      <th>52</th>\n",
       "      <th>target</th>\n",
       "    </tr>\n",
       "  </thead>\n",
       "  <tbody>\n",
       "    <tr>\n",
       "      <th>count</th>\n",
       "      <td>90000.000000</td>\n",
       "      <td>90000.000000</td>\n",
       "      <td>90000.000000</td>\n",
       "      <td>90000.000000</td>\n",
       "      <td>90000.000000</td>\n",
       "      <td>90000.000000</td>\n",
       "      <td>90000.000000</td>\n",
       "      <td>90000.000000</td>\n",
       "      <td>90000.000000</td>\n",
       "      <td>90000.000000</td>\n",
       "      <td>...</td>\n",
       "      <td>90000.000000</td>\n",
       "      <td>90000.000000</td>\n",
       "      <td>90000.000000</td>\n",
       "      <td>90000.000000</td>\n",
       "      <td>90000.000000</td>\n",
       "      <td>90000.000000</td>\n",
       "      <td>90000.000000</td>\n",
       "      <td>90000.000000</td>\n",
       "      <td>90000.000000</td>\n",
       "      <td>90000.000000</td>\n",
       "    </tr>\n",
       "    <tr>\n",
       "      <th>mean</th>\n",
       "      <td>-0.011402</td>\n",
       "      <td>0.498548</td>\n",
       "      <td>7.483940</td>\n",
       "      <td>7.498037</td>\n",
       "      <td>7.496259</td>\n",
       "      <td>7.501635</td>\n",
       "      <td>7.486463</td>\n",
       "      <td>7.523043</td>\n",
       "      <td>7.475585</td>\n",
       "      <td>7.494835</td>\n",
       "      <td>...</td>\n",
       "      <td>7.475155</td>\n",
       "      <td>7.523962</td>\n",
       "      <td>7.508397</td>\n",
       "      <td>7.473322</td>\n",
       "      <td>7.490658</td>\n",
       "      <td>7.474578</td>\n",
       "      <td>7.509206</td>\n",
       "      <td>7.487159</td>\n",
       "      <td>7.513316</td>\n",
       "      <td>50.033981</td>\n",
       "    </tr>\n",
       "    <tr>\n",
       "      <th>std</th>\n",
       "      <td>7.038171</td>\n",
       "      <td>0.288682</td>\n",
       "      <td>4.330908</td>\n",
       "      <td>4.318388</td>\n",
       "      <td>4.338732</td>\n",
       "      <td>4.345618</td>\n",
       "      <td>4.318031</td>\n",
       "      <td>4.323500</td>\n",
       "      <td>4.327327</td>\n",
       "      <td>4.325447</td>\n",
       "      <td>...</td>\n",
       "      <td>4.330410</td>\n",
       "      <td>4.321537</td>\n",
       "      <td>4.331761</td>\n",
       "      <td>4.335692</td>\n",
       "      <td>4.332122</td>\n",
       "      <td>4.323035</td>\n",
       "      <td>4.326364</td>\n",
       "      <td>4.324876</td>\n",
       "      <td>4.333080</td>\n",
       "      <td>28.897243</td>\n",
       "    </tr>\n",
       "    <tr>\n",
       "      <th>min</th>\n",
       "      <td>-9.949874</td>\n",
       "      <td>0.000014</td>\n",
       "      <td>0.000095</td>\n",
       "      <td>0.000252</td>\n",
       "      <td>0.000190</td>\n",
       "      <td>0.000192</td>\n",
       "      <td>0.000067</td>\n",
       "      <td>0.000229</td>\n",
       "      <td>0.000125</td>\n",
       "      <td>0.000382</td>\n",
       "      <td>...</td>\n",
       "      <td>0.000019</td>\n",
       "      <td>0.000040</td>\n",
       "      <td>0.000154</td>\n",
       "      <td>0.000083</td>\n",
       "      <td>0.000367</td>\n",
       "      <td>0.000014</td>\n",
       "      <td>0.000160</td>\n",
       "      <td>0.000147</td>\n",
       "      <td>0.000125</td>\n",
       "      <td>0.002634</td>\n",
       "    </tr>\n",
       "    <tr>\n",
       "      <th>25%</th>\n",
       "      <td>-7.071068</td>\n",
       "      <td>0.248932</td>\n",
       "      <td>3.723392</td>\n",
       "      <td>3.763626</td>\n",
       "      <td>3.718755</td>\n",
       "      <td>3.719537</td>\n",
       "      <td>3.758746</td>\n",
       "      <td>3.778857</td>\n",
       "      <td>3.733780</td>\n",
       "      <td>3.748951</td>\n",
       "      <td>...</td>\n",
       "      <td>3.707544</td>\n",
       "      <td>3.797002</td>\n",
       "      <td>3.760627</td>\n",
       "      <td>3.715721</td>\n",
       "      <td>3.739358</td>\n",
       "      <td>3.715298</td>\n",
       "      <td>3.773381</td>\n",
       "      <td>3.743536</td>\n",
       "      <td>3.776322</td>\n",
       "      <td>25.091903</td>\n",
       "    </tr>\n",
       "    <tr>\n",
       "      <th>50%</th>\n",
       "      <td>0.000000</td>\n",
       "      <td>0.497136</td>\n",
       "      <td>7.483265</td>\n",
       "      <td>7.505267</td>\n",
       "      <td>7.502682</td>\n",
       "      <td>7.515240</td>\n",
       "      <td>7.467721</td>\n",
       "      <td>7.539462</td>\n",
       "      <td>7.460267</td>\n",
       "      <td>7.481500</td>\n",
       "      <td>...</td>\n",
       "      <td>7.474127</td>\n",
       "      <td>7.533987</td>\n",
       "      <td>7.505259</td>\n",
       "      <td>7.459774</td>\n",
       "      <td>7.494167</td>\n",
       "      <td>7.477270</td>\n",
       "      <td>7.512575</td>\n",
       "      <td>7.476564</td>\n",
       "      <td>7.506812</td>\n",
       "      <td>50.030705</td>\n",
       "    </tr>\n",
       "    <tr>\n",
       "      <th>75%</th>\n",
       "      <td>7.000000</td>\n",
       "      <td>0.747513</td>\n",
       "      <td>11.242883</td>\n",
       "      <td>11.228331</td>\n",
       "      <td>11.258049</td>\n",
       "      <td>11.284618</td>\n",
       "      <td>11.238904</td>\n",
       "      <td>11.254751</td>\n",
       "      <td>11.211187</td>\n",
       "      <td>11.238128</td>\n",
       "      <td>...</td>\n",
       "      <td>11.216585</td>\n",
       "      <td>11.276349</td>\n",
       "      <td>11.261971</td>\n",
       "      <td>11.215637</td>\n",
       "      <td>11.239232</td>\n",
       "      <td>11.210070</td>\n",
       "      <td>11.268156</td>\n",
       "      <td>11.234414</td>\n",
       "      <td>11.277835</td>\n",
       "      <td>75.059454</td>\n",
       "    </tr>\n",
       "    <tr>\n",
       "      <th>max</th>\n",
       "      <td>9.949874</td>\n",
       "      <td>0.999987</td>\n",
       "      <td>14.999920</td>\n",
       "      <td>14.999938</td>\n",
       "      <td>14.999660</td>\n",
       "      <td>14.999979</td>\n",
       "      <td>14.999840</td>\n",
       "      <td>14.999857</td>\n",
       "      <td>14.999634</td>\n",
       "      <td>14.999953</td>\n",
       "      <td>...</td>\n",
       "      <td>14.999900</td>\n",
       "      <td>14.999528</td>\n",
       "      <td>14.999733</td>\n",
       "      <td>14.999478</td>\n",
       "      <td>14.999869</td>\n",
       "      <td>14.999928</td>\n",
       "      <td>14.999948</td>\n",
       "      <td>14.999364</td>\n",
       "      <td>14.999775</td>\n",
       "      <td>99.999482</td>\n",
       "    </tr>\n",
       "  </tbody>\n",
       "</table>\n",
       "<p>8 rows × 43 columns</p>\n",
       "</div>"
      ],
      "text/plain": [
       "                  6             7            13            14            15  \\\n",
       "count  90000.000000  90000.000000  90000.000000  90000.000000  90000.000000   \n",
       "mean      -0.011402      0.498548      7.483940      7.498037      7.496259   \n",
       "std        7.038171      0.288682      4.330908      4.318388      4.338732   \n",
       "min       -9.949874      0.000014      0.000095      0.000252      0.000190   \n",
       "25%       -7.071068      0.248932      3.723392      3.763626      3.718755   \n",
       "50%        0.000000      0.497136      7.483265      7.505267      7.502682   \n",
       "75%        7.000000      0.747513     11.242883     11.228331     11.258049   \n",
       "max        9.949874      0.999987     14.999920     14.999938     14.999660   \n",
       "\n",
       "                 16            17            18            19            20  \\\n",
       "count  90000.000000  90000.000000  90000.000000  90000.000000  90000.000000   \n",
       "mean       7.501635      7.486463      7.523043      7.475585      7.494835   \n",
       "std        4.345618      4.318031      4.323500      4.327327      4.325447   \n",
       "min        0.000192      0.000067      0.000229      0.000125      0.000382   \n",
       "25%        3.719537      3.758746      3.778857      3.733780      3.748951   \n",
       "50%        7.515240      7.467721      7.539462      7.460267      7.481500   \n",
       "75%       11.284618     11.238904     11.254751     11.211187     11.238128   \n",
       "max       14.999979     14.999840     14.999857     14.999634     14.999953   \n",
       "\n",
       "       ...            44            45            46            47  \\\n",
       "count  ...  90000.000000  90000.000000  90000.000000  90000.000000   \n",
       "mean   ...      7.475155      7.523962      7.508397      7.473322   \n",
       "std    ...      4.330410      4.321537      4.331761      4.335692   \n",
       "min    ...      0.000019      0.000040      0.000154      0.000083   \n",
       "25%    ...      3.707544      3.797002      3.760627      3.715721   \n",
       "50%    ...      7.474127      7.533987      7.505259      7.459774   \n",
       "75%    ...     11.216585     11.276349     11.261971     11.215637   \n",
       "max    ...     14.999900     14.999528     14.999733     14.999478   \n",
       "\n",
       "                 48            49            50            51            52  \\\n",
       "count  90000.000000  90000.000000  90000.000000  90000.000000  90000.000000   \n",
       "mean       7.490658      7.474578      7.509206      7.487159      7.513316   \n",
       "std        4.332122      4.323035      4.326364      4.324876      4.333080   \n",
       "min        0.000367      0.000014      0.000160      0.000147      0.000125   \n",
       "25%        3.739358      3.715298      3.773381      3.743536      3.776322   \n",
       "50%        7.494167      7.477270      7.512575      7.476564      7.506812   \n",
       "75%       11.239232     11.210070     11.268156     11.234414     11.277835   \n",
       "max       14.999869     14.999928     14.999948     14.999364     14.999775   \n",
       "\n",
       "             target  \n",
       "count  90000.000000  \n",
       "mean      50.033981  \n",
       "std       28.897243  \n",
       "min        0.002634  \n",
       "25%       25.091903  \n",
       "50%       50.030705  \n",
       "75%       75.059454  \n",
       "max       99.999482  \n",
       "\n",
       "[8 rows x 43 columns]"
      ]
     },
     "execution_count": 7,
     "metadata": {},
     "output_type": "execute_result"
    }
   ],
   "source": [
    "df.describe(include='float')"
   ]
  },
  {
   "cell_type": "code",
   "execution_count": 8,
   "id": "e4bfc86a",
   "metadata": {
    "ExecuteTime": {
     "end_time": "2023-03-11T12:39:41.989095Z",
     "start_time": "2023-03-11T12:39:41.947382Z"
    }
   },
   "outputs": [
    {
     "data": {
      "text/html": [
       "<div>\n",
       "<style scoped>\n",
       "    .dataframe tbody tr th:only-of-type {\n",
       "        vertical-align: middle;\n",
       "    }\n",
       "\n",
       "    .dataframe tbody tr th {\n",
       "        vertical-align: top;\n",
       "    }\n",
       "\n",
       "    .dataframe thead th {\n",
       "        text-align: right;\n",
       "    }\n",
       "</style>\n",
       "<table border=\"1\" class=\"dataframe\">\n",
       "  <thead>\n",
       "    <tr style=\"text-align: right;\">\n",
       "      <th></th>\n",
       "      <th>0</th>\n",
       "      <th>1</th>\n",
       "      <th>2</th>\n",
       "      <th>3</th>\n",
       "      <th>4</th>\n",
       "      <th>5</th>\n",
       "      <th>8</th>\n",
       "      <th>9</th>\n",
       "      <th>10</th>\n",
       "      <th>11</th>\n",
       "      <th>12</th>\n",
       "    </tr>\n",
       "  </thead>\n",
       "  <tbody>\n",
       "    <tr>\n",
       "      <th>count</th>\n",
       "      <td>90000.000000</td>\n",
       "      <td>90000.000000</td>\n",
       "      <td>90000.000000</td>\n",
       "      <td>90000.000000</td>\n",
       "      <td>90000.000000</td>\n",
       "      <td>90000.000000</td>\n",
       "      <td>90000.000000</td>\n",
       "      <td>90000.000000</td>\n",
       "      <td>90000.000000</td>\n",
       "      <td>90000.000000</td>\n",
       "      <td>90000.000000</td>\n",
       "    </tr>\n",
       "    <tr>\n",
       "      <th>mean</th>\n",
       "      <td>249.423944</td>\n",
       "      <td>250.236267</td>\n",
       "      <td>248.637289</td>\n",
       "      <td>249.736600</td>\n",
       "      <td>249.436178</td>\n",
       "      <td>249.656167</td>\n",
       "      <td>0.499189</td>\n",
       "      <td>249.842033</td>\n",
       "      <td>249.818967</td>\n",
       "      <td>249.346778</td>\n",
       "      <td>249.899900</td>\n",
       "    </tr>\n",
       "    <tr>\n",
       "      <th>std</th>\n",
       "      <td>144.336393</td>\n",
       "      <td>144.022200</td>\n",
       "      <td>144.107577</td>\n",
       "      <td>144.284945</td>\n",
       "      <td>143.941581</td>\n",
       "      <td>144.329168</td>\n",
       "      <td>0.500002</td>\n",
       "      <td>144.612718</td>\n",
       "      <td>144.363827</td>\n",
       "      <td>144.476128</td>\n",
       "      <td>144.310495</td>\n",
       "    </tr>\n",
       "    <tr>\n",
       "      <th>min</th>\n",
       "      <td>0.000000</td>\n",
       "      <td>0.000000</td>\n",
       "      <td>0.000000</td>\n",
       "      <td>0.000000</td>\n",
       "      <td>0.000000</td>\n",
       "      <td>0.000000</td>\n",
       "      <td>0.000000</td>\n",
       "      <td>0.000000</td>\n",
       "      <td>0.000000</td>\n",
       "      <td>0.000000</td>\n",
       "      <td>0.000000</td>\n",
       "    </tr>\n",
       "    <tr>\n",
       "      <th>25%</th>\n",
       "      <td>125.000000</td>\n",
       "      <td>126.000000</td>\n",
       "      <td>124.000000</td>\n",
       "      <td>125.000000</td>\n",
       "      <td>125.000000</td>\n",
       "      <td>124.000000</td>\n",
       "      <td>0.000000</td>\n",
       "      <td>124.000000</td>\n",
       "      <td>126.000000</td>\n",
       "      <td>124.000000</td>\n",
       "      <td>125.000000</td>\n",
       "    </tr>\n",
       "    <tr>\n",
       "      <th>50%</th>\n",
       "      <td>250.000000</td>\n",
       "      <td>251.000000</td>\n",
       "      <td>248.000000</td>\n",
       "      <td>250.000000</td>\n",
       "      <td>250.000000</td>\n",
       "      <td>250.000000</td>\n",
       "      <td>0.000000</td>\n",
       "      <td>250.000000</td>\n",
       "      <td>250.000000</td>\n",
       "      <td>249.000000</td>\n",
       "      <td>251.000000</td>\n",
       "    </tr>\n",
       "    <tr>\n",
       "      <th>75%</th>\n",
       "      <td>374.000000</td>\n",
       "      <td>375.000000</td>\n",
       "      <td>374.000000</td>\n",
       "      <td>375.000000</td>\n",
       "      <td>373.000000</td>\n",
       "      <td>374.000000</td>\n",
       "      <td>1.000000</td>\n",
       "      <td>376.000000</td>\n",
       "      <td>375.000000</td>\n",
       "      <td>375.000000</td>\n",
       "      <td>375.000000</td>\n",
       "    </tr>\n",
       "    <tr>\n",
       "      <th>max</th>\n",
       "      <td>499.000000</td>\n",
       "      <td>499.000000</td>\n",
       "      <td>499.000000</td>\n",
       "      <td>499.000000</td>\n",
       "      <td>499.000000</td>\n",
       "      <td>499.000000</td>\n",
       "      <td>1.000000</td>\n",
       "      <td>499.000000</td>\n",
       "      <td>499.000000</td>\n",
       "      <td>499.000000</td>\n",
       "      <td>499.000000</td>\n",
       "    </tr>\n",
       "  </tbody>\n",
       "</table>\n",
       "</div>"
      ],
      "text/plain": [
       "                  0             1             2             3             4  \\\n",
       "count  90000.000000  90000.000000  90000.000000  90000.000000  90000.000000   \n",
       "mean     249.423944    250.236267    248.637289    249.736600    249.436178   \n",
       "std      144.336393    144.022200    144.107577    144.284945    143.941581   \n",
       "min        0.000000      0.000000      0.000000      0.000000      0.000000   \n",
       "25%      125.000000    126.000000    124.000000    125.000000    125.000000   \n",
       "50%      250.000000    251.000000    248.000000    250.000000    250.000000   \n",
       "75%      374.000000    375.000000    374.000000    375.000000    373.000000   \n",
       "max      499.000000    499.000000    499.000000    499.000000    499.000000   \n",
       "\n",
       "                  5             8             9            10            11  \\\n",
       "count  90000.000000  90000.000000  90000.000000  90000.000000  90000.000000   \n",
       "mean     249.656167      0.499189    249.842033    249.818967    249.346778   \n",
       "std      144.329168      0.500002    144.612718    144.363827    144.476128   \n",
       "min        0.000000      0.000000      0.000000      0.000000      0.000000   \n",
       "25%      124.000000      0.000000    124.000000    126.000000    124.000000   \n",
       "50%      250.000000      0.000000    250.000000    250.000000    249.000000   \n",
       "75%      374.000000      1.000000    376.000000    375.000000    375.000000   \n",
       "max      499.000000      1.000000    499.000000    499.000000    499.000000   \n",
       "\n",
       "                 12  \n",
       "count  90000.000000  \n",
       "mean     249.899900  \n",
       "std      144.310495  \n",
       "min        0.000000  \n",
       "25%      125.000000  \n",
       "50%      251.000000  \n",
       "75%      375.000000  \n",
       "max      499.000000  "
      ]
     },
     "execution_count": 8,
     "metadata": {},
     "output_type": "execute_result"
    }
   ],
   "source": [
    "df.describe(exclude='float')"
   ]
  },
  {
   "cell_type": "code",
   "execution_count": 9,
   "id": "b2405d1f",
   "metadata": {
    "ExecuteTime": {
     "end_time": "2023-03-11T12:39:49.324904Z",
     "start_time": "2023-03-11T12:39:41.990993Z"
    },
    "scrolled": false
   },
   "outputs": [
    {
     "data": {
      "text/plain": [
       "<AxesSubplot:>"
      ]
     },
     "execution_count": 9,
     "metadata": {},
     "output_type": "execute_result"
    },
    {
     "data": {
      "image/png": "[encoded data removed]",
      "text/plain": [
       "<Figure size 2160x1080 with 2 Axes>"
      ]
     },
     "metadata": {
      "needs_background": "light"
     },
     "output_type": "display_data"
    }
   ],
   "source": [
    "plt.figure(figsize=(30, 15))\n",
    "\n",
    "sns.heatmap(df.corr(method='spearman'), annot=True, fmt=\".1f\")"
   ]
  },
  {
   "cell_type": "markdown",
   "id": "247acb0d",
   "metadata": {},
   "source": [
    "Strong corellation between 8 and 6 parameters"
   ]
  },
  {
   "cell_type": "code",
   "execution_count": 10,
   "id": "d6ad15cd",
   "metadata": {
    "ExecuteTime": {
     "end_time": "2023-03-11T12:39:49.791479Z",
     "start_time": "2023-03-11T12:39:49.326418Z"
    }
   },
   "outputs": [
    {
     "data": {
      "text/plain": [
       "<seaborn.axisgrid.FacetGrid at 0x7f4bfc83cb50>"
      ]
     },
     "execution_count": 10,
     "metadata": {},
     "output_type": "execute_result"
    },
    {
     "data": {
      "image/png": "[encoded data removed]",
      "text/plain": [
       "<Figure size 360x360 with 1 Axes>"
      ]
     },
     "metadata": {
      "needs_background": "light"
     },
     "output_type": "display_data"
    }
   ],
   "source": [
    "sns.displot(df.target, bins=100, kde=True)"
   ]
  },
  {
   "cell_type": "code",
   "execution_count": 11,
   "id": "232f1520",
   "metadata": {
    "ExecuteTime": {
     "end_time": "2023-03-11T12:39:49.803979Z",
     "start_time": "2023-03-11T12:39:49.794399Z"
    }
   },
   "outputs": [
    {
     "name": "stdout",
     "output_type": "stream",
     "text": [
      "ShapiroResult(statistic=0.9547744393348694, pvalue=0.0)\n"
     ]
    }
   ],
   "source": [
    "print(stats.shapiro(df.target))"
   ]
  },
  {
   "cell_type": "code",
   "execution_count": 12,
   "id": "ea1b5d8a",
   "metadata": {
    "ExecuteTime": {
     "end_time": "2023-03-11T12:39:49.817772Z",
     "start_time": "2023-03-11T12:39:49.805149Z"
    }
   },
   "outputs": [
    {
     "name": "stdout",
     "output_type": "stream",
     "text": [
      "KstestResult(statistic=0.9694242134579905, pvalue=0.0)\n"
     ]
    }
   ],
   "source": [
    "print(stats.kstest(df.target, stats.norm.cdf))"
   ]
  },
  {
   "cell_type": "code",
   "execution_count": 13,
   "id": "2aecd54b",
   "metadata": {
    "ExecuteTime": {
     "end_time": "2023-03-11T12:39:49.879416Z",
     "start_time": "2023-03-11T12:39:49.819211Z"
    }
   },
   "outputs": [
    {
     "data": {
      "text/plain": [
       "<AxesSubplot:xlabel='target'>"
      ]
     },
     "execution_count": 13,
     "metadata": {},
     "output_type": "execute_result"
    },
    {
     "data": {
      "image/png": "[encoded data removed]",
      "text/plain": [
       "<Figure size 432x288 with 1 Axes>"
      ]
     },
     "metadata": {
      "needs_background": "light"
     },
     "output_type": "display_data"
    }
   ],
   "source": [
    "sns.boxplot(x=df.target)"
   ]
  },
  {
   "cell_type": "markdown",
   "id": "744981c7",
   "metadata": {},
   "source": [
    "*There is no linear relationship between the data, and the distribution is not normal, so linear models are unlikely to give a good result. But let's try linear regression as a baseline. And then will try a Random forest.*"
   ]
  },
  {
   "cell_type": "markdown",
   "id": "9dc8a9a6",
   "metadata": {},
   "source": [
    "## Preparing data"
   ]
  },
  {
   "cell_type": "code",
   "execution_count": 14,
   "id": "8bc0e9d4",
   "metadata": {
    "ExecuteTime": {
     "end_time": "2023-03-11T12:39:49.912249Z",
     "start_time": "2023-03-11T12:39:49.882392Z"
    }
   },
   "outputs": [],
   "source": [
    "X = df.drop(columns=['target'], axis=1)\n",
    "y = df['target'].values\n",
    "\n",
    "X_train, X_val, y_train, y_val = train_test_split(X,\n",
    "                                                  y,\n",
    "                                                  test_size=test_size,\n",
    "                                                  random_state=random_state)"
   ]
  },
  {
   "cell_type": "code",
   "execution_count": 15,
   "id": "8527ce14",
   "metadata": {
    "ExecuteTime": {
     "end_time": "2023-03-11T12:39:49.916422Z",
     "start_time": "2023-03-11T12:39:49.913841Z"
    }
   },
   "outputs": [],
   "source": [
    "def rmse(estimator, X, y):\n",
    "    y_pred = estimator.predict(X)\n",
    "    return np.sqrt(mean_squared_error(y, y_pred))"
   ]
  },
  {
   "cell_type": "markdown",
   "id": "c2d44e8e",
   "metadata": {},
   "source": [
    "## Linear regression"
   ]
  },
  {
   "cell_type": "code",
   "execution_count": 16,
   "id": "7eb32812",
   "metadata": {
    "ExecuteTime": {
     "end_time": "2023-03-11T12:39:49.975876Z",
     "start_time": "2023-03-11T12:39:49.917928Z"
    }
   },
   "outputs": [],
   "source": [
    "sc = StandardScaler()\n",
    "X_train_norm = sc.fit_transform(X_train)\n",
    "X_val_norm = sc.transform(X_val)"
   ]
  },
  {
   "cell_type": "code",
   "execution_count": 17,
   "id": "01988076",
   "metadata": {
    "ExecuteTime": {
     "end_time": "2023-03-11T12:39:50.166715Z",
     "start_time": "2023-03-11T12:39:49.977315Z"
    }
   },
   "outputs": [
    {
     "name": "stdout",
     "output_type": "stream",
     "text": [
      "Linear regression, RMSE = 28.845\n"
     ]
    }
   ],
   "source": [
    "from sklearn.linear_model import LinearRegression\n",
    "lr = LinearRegression()\n",
    "lr.fit(X_train_norm, y_train)\n",
    "lr_error = round(rmse(lr, X_val_norm, y_val),3)\n",
    "print(f\"Linear regression, RMSE = {lr_error}\");"
   ]
  },
  {
   "cell_type": "markdown",
   "id": "fc6b10b1",
   "metadata": {},
   "source": [
    "## RandomForestRegressor"
   ]
  },
  {
   "cell_type": "code",
   "execution_count": 18,
   "id": "a68bab3c",
   "metadata": {
    "ExecuteTime": {
     "end_time": "2023-03-11T12:43:35.799798Z",
     "start_time": "2023-03-11T12:39:50.168803Z"
    }
   },
   "outputs": [
    {
     "name": "stdout",
     "output_type": "stream",
     "text": [
      "Random forest, RMSE = 0.004\n"
     ]
    }
   ],
   "source": [
    "# Random Forest\n",
    "from sklearn.ensemble import RandomForestRegressor\n",
    "rf = RandomForestRegressor(random_state=random_state)\n",
    "# rf = RandomForestRegressor(max_depth = 4, max_features = 8, n_estimators = 15, random_state=random_state)\n",
    "rf.fit(X_train, y_train)\n",
    "rf_error = round(rmse(rf, X_val, y_val),3)\n",
    "\n",
    "print(f\"Random forest, RMSE = {rf_error}\");"
   ]
  },
  {
   "cell_type": "markdown",
   "id": "1c98efe6",
   "metadata": {},
   "source": [
    "*As expected, \"out of the box\" random forest gives a better result.*"
   ]
  },
  {
   "cell_type": "code",
   "execution_count": 19,
   "id": "a86a9cdf",
   "metadata": {
    "ExecuteTime": {
     "end_time": "2023-03-11T12:43:35.870760Z",
     "start_time": "2023-03-11T12:43:35.801419Z"
    }
   },
   "outputs": [
    {
     "name": "stdout",
     "output_type": "stream",
     "text": [
      "      Importance\n",
      "6   9.999010e-01\n",
      "7   9.898937e-05\n",
      "18  1.179160e-09\n",
      "46  1.169393e-09\n",
      "23  1.163726e-09\n",
      "16  1.151557e-09\n",
      "51  1.147495e-09\n",
      "25  1.144433e-09\n",
      "40  1.143132e-09\n",
      "50  1.140294e-09\n",
      "48  1.139965e-09\n",
      "42  1.138949e-09\n",
      "52  1.138404e-09\n",
      "14  1.137974e-09\n",
      "2   1.135062e-09\n",
      "19  1.134070e-09\n",
      "4   1.132646e-09\n",
      "21  1.130566e-09\n",
      "39  1.125460e-09\n",
      "43  1.125305e-09\n",
      "41  1.124459e-09\n",
      "28  1.122981e-09\n",
      "17  1.122846e-09\n",
      "27  1.119868e-09\n",
      "22  1.119556e-09\n",
      "30  1.119396e-09\n",
      "1   1.119350e-09\n",
      "45  1.119263e-09\n",
      "29  1.118885e-09\n",
      "34  1.116686e-09\n",
      "38  1.115251e-09\n",
      "47  1.114973e-09\n",
      "31  1.112258e-09\n",
      "26  1.108203e-09\n",
      "0   1.106716e-09\n",
      "36  1.106570e-09\n",
      "10  1.104954e-09\n",
      "32  1.104531e-09\n",
      "9   1.104079e-09\n",
      "37  1.103797e-09\n",
      "44  1.103744e-09\n",
      "11  1.101787e-09\n",
      "20  1.092059e-09\n",
      "49  1.090636e-09\n",
      "5   1.088743e-09\n",
      "24  1.088293e-09\n",
      "13  1.081834e-09\n",
      "12  1.080726e-09\n",
      "35  1.078968e-09\n",
      "15  1.067248e-09\n",
      "33  1.040824e-09\n",
      "3   1.030459e-09\n",
      "8   5.862242e-13\n"
     ]
    }
   ],
   "source": [
    "print(pd.DataFrame(rf.feature_importances_, X_train.columns, columns=['Importance']).sort_values(by='Importance', ascending=False)) "
   ]
  },
  {
   "cell_type": "markdown",
   "id": "c8409b5a",
   "metadata": {},
   "source": [
    "*And 6th parameter is very important for our model*"
   ]
  },
  {
   "cell_type": "markdown",
   "id": "2f4edac0",
   "metadata": {},
   "source": [
    "## Fitting hyperparameters"
   ]
  },
  {
   "cell_type": "code",
   "execution_count": 28,
   "id": "14bf781d",
   "metadata": {
    "ExecuteTime": {
     "end_time": "2023-03-11T13:23:55.930631Z",
     "start_time": "2023-03-11T13:23:55.925556Z"
    }
   },
   "outputs": [],
   "source": [
    "forest_params = {'max_features': range(30,50,5), 'n_estimators': range(60,200,20)}\n",
    "rf = RandomForestRegressor(random_state=random_state)\n",
    "forest_grid = GridSearchCV(rf, forest_params, cv=5, n_jobs=-1, verbose=True, scoring='neg_root_mean_squared_error')"
   ]
  },
  {
   "cell_type": "code",
   "execution_count": 29,
   "id": "3712598e",
   "metadata": {
    "ExecuteTime": {
     "end_time": "2023-03-11T13:35:26.718234Z",
     "start_time": "2023-03-11T13:23:57.942764Z"
    }
   },
   "outputs": [
    {
     "name": "stdout",
     "output_type": "stream",
     "text": [
      "Fitting 5 folds for each of 28 candidates, totalling 140 fits\n"
     ]
    },
    {
     "data": {
      "text/html": [
       "<style>#sk-container-id-2 {color: black;background-color: white;}#sk-container-id-2 pre{padding: 0;}#sk-container-id-2 div.sk-toggleable {background-color: white;}#sk-container-id-2 label.sk-toggleable__label {cursor: pointer;display: block;width: 100%;margin-bottom: 0;padding: 0.3em;box-sizing: border-box;text-align: center;}#sk-container-id-2 label.sk-toggleable__label-arrow:before {content: \"▸\";float: left;margin-right: 0.25em;color: #696969;}#sk-container-id-2 label.sk-toggleable__label-arrow:hover:before {color: black;}#sk-container-id-2 div.sk-estimator:hover label.sk-toggleable__label-arrow:before {color: black;}#sk-container-id-2 div.sk-toggleable__content {max-height: 0;max-width: 0;overflow: hidden;text-align: left;background-color: #f0f8ff;}#sk-container-id-2 div.sk-toggleable__content pre {margin: 0.2em;color: black;border-radius: 0.25em;background-color: #f0f8ff;}#sk-container-id-2 input.sk-toggleable__control:checked~div.sk-toggleable__content {max-height: 200px;max-width: 100%;overflow: auto;}#sk-container-id-2 input.sk-toggleable__control:checked~label.sk-toggleable__label-arrow:before {content: \"▾\";}#sk-container-id-2 div.sk-estimator input.sk-toggleable__control:checked~label.sk-toggleable__label {background-color: #d4ebff;}#sk-container-id-2 div.sk-label input.sk-toggleable__control:checked~label.sk-toggleable__label {background-color: #d4ebff;}#sk-container-id-2 input.sk-hidden--visually {border: 0;clip: rect(1px 1px 1px 1px);clip: rect(1px, 1px, 1px, 1px);height: 1px;margin: -1px;overflow: hidden;padding: 0;position: absolute;width: 1px;}#sk-container-id-2 div.sk-estimator {font-family: monospace;background-color: #f0f8ff;border: 1px dotted black;border-radius: 0.25em;box-sizing: border-box;margin-bottom: 0.5em;}#sk-container-id-2 div.sk-estimator:hover {background-color: #d4ebff;}#sk-container-id-2 div.sk-parallel-item::after {content: \"\";width: 100%;border-bottom: 1px solid gray;flex-grow: 1;}#sk-container-id-2 div.sk-label:hover label.sk-toggleable__label {background-color: #d4ebff;}#sk-container-id-2 div.sk-serial::before {content: \"\";position: absolute;border-left: 1px solid gray;box-sizing: border-box;top: 0;bottom: 0;left: 50%;z-index: 0;}#sk-container-id-2 div.sk-serial {display: flex;flex-direction: column;align-items: center;background-color: white;padding-right: 0.2em;padding-left: 0.2em;position: relative;}#sk-container-id-2 div.sk-item {position: relative;z-index: 1;}#sk-container-id-2 div.sk-parallel {display: flex;align-items: stretch;justify-content: center;background-color: white;position: relative;}#sk-container-id-2 div.sk-item::before, #sk-container-id-2 div.sk-parallel-item::before {content: \"\";position: absolute;border-left: 1px solid gray;box-sizing: border-box;top: 0;bottom: 0;left: 50%;z-index: -1;}#sk-container-id-2 div.sk-parallel-item {display: flex;flex-direction: column;z-index: 1;position: relative;background-color: white;}#sk-container-id-2 div.sk-parallel-item:first-child::after {align-self: flex-end;width: 50%;}#sk-container-id-2 div.sk-parallel-item:last-child::after {align-self: flex-start;width: 50%;}#sk-container-id-2 div.sk-parallel-item:only-child::after {width: 0;}#sk-container-id-2 div.sk-dashed-wrapped {border: 1px dashed gray;margin: 0 0.4em 0.5em 0.4em;box-sizing: border-box;padding-bottom: 0.4em;background-color: white;}#sk-container-id-2 div.sk-label label {font-family: monospace;font-weight: bold;display: inline-block;line-height: 1.2em;}#sk-container-id-2 div.sk-label-container {text-align: center;}#sk-container-id-2 div.sk-container {/* jupyter's `normalize.less` sets `[hidden] { display: none; }` but bootstrap.min.css set `[hidden] { display: none !important; }` so we also need the `!important` here to be able to override the default hidden behavior on the sphinx rendered scikit-learn.org. See: https://github.com/scikit-learn/scikit-learn/issues/21755 */display: inline-block !important;position: relative;}#sk-container-id-2 div.sk-text-repr-fallback {display: none;}</style><div id=\"sk-container-id-2\" class=\"sk-top-container\"><div class=\"sk-text-repr-fallback\"><pre>GridSearchCV(cv=5, estimator=RandomForestRegressor(random_state=29), n_jobs=-1,\n",
       "             param_grid={&#x27;max_features&#x27;: range(30, 50, 5),\n",
       "                         &#x27;n_estimators&#x27;: range(60, 200, 20)},\n",
       "             scoring=&#x27;neg_root_mean_squared_error&#x27;, verbose=True)</pre><b>In a Jupyter environment, please rerun this cell to show the HTML representation or trust the notebook. <br />On GitHub, the HTML representation is unable to render, please try loading this page with nbviewer.org.</b></div><div class=\"sk-container\" hidden><div class=\"sk-item sk-dashed-wrapped\"><div class=\"sk-label-container\"><div class=\"sk-label sk-toggleable\"><input class=\"sk-toggleable__control sk-hidden--visually\" id=\"sk-estimator-id-4\" type=\"checkbox\" ><label for=\"sk-estimator-id-4\" class=\"sk-toggleable__label sk-toggleable__label-arrow\">GridSearchCV</label><div class=\"sk-toggleable__content\"><pre>GridSearchCV(cv=5, estimator=RandomForestRegressor(random_state=29), n_jobs=-1,\n",
       "             param_grid={&#x27;max_features&#x27;: range(30, 50, 5),\n",
       "                         &#x27;n_estimators&#x27;: range(60, 200, 20)},\n",
       "             scoring=&#x27;neg_root_mean_squared_error&#x27;, verbose=True)</pre></div></div></div><div class=\"sk-parallel\"><div class=\"sk-parallel-item\"><div class=\"sk-item\"><div class=\"sk-label-container\"><div class=\"sk-label sk-toggleable\"><input class=\"sk-toggleable__control sk-hidden--visually\" id=\"sk-estimator-id-5\" type=\"checkbox\" ><label for=\"sk-estimator-id-5\" class=\"sk-toggleable__label sk-toggleable__label-arrow\">estimator: RandomForestRegressor</label><div class=\"sk-toggleable__content\"><pre>RandomForestRegressor(random_state=29)</pre></div></div></div><div class=\"sk-serial\"><div class=\"sk-item\"><div class=\"sk-estimator sk-toggleable\"><input class=\"sk-toggleable__control sk-hidden--visually\" id=\"sk-estimator-id-6\" type=\"checkbox\" ><label for=\"sk-estimator-id-6\" class=\"sk-toggleable__label sk-toggleable__label-arrow\">RandomForestRegressor</label><div class=\"sk-toggleable__content\"><pre>RandomForestRegressor(random_state=29)</pre></div></div></div></div></div></div></div></div></div></div>"
      ],
      "text/plain": [
       "GridSearchCV(cv=5, estimator=RandomForestRegressor(random_state=29), n_jobs=-1,\n",
       "             param_grid={'max_features': range(30, 50, 5),\n",
       "                         'n_estimators': range(60, 200, 20)},\n",
       "             scoring='neg_root_mean_squared_error', verbose=True)"
      ]
     },
     "execution_count": 29,
     "metadata": {},
     "output_type": "execute_result"
    }
   ],
   "source": [
    "# forest_grid.fit(X_val, y_val) #I try it on smaller data, for increasing speed"
   ]
  },
  {
   "cell_type": "code",
   "execution_count": 30,
   "id": "339b0d71",
   "metadata": {
    "ExecuteTime": {
     "end_time": "2023-03-11T13:39:36.764223Z",
     "start_time": "2023-03-11T13:39:36.759162Z"
    }
   },
   "outputs": [
    {
     "data": {
      "text/plain": [
       "(-0.07476081526737983, {'max_features': 45, 'n_estimators': 180})"
      ]
     },
     "execution_count": 30,
     "metadata": {},
     "output_type": "execute_result"
    }
   ],
   "source": [
    "forest_grid.best_score_, forest_grid.best_params_"
   ]
  },
  {
   "cell_type": "code",
   "execution_count": 31,
   "id": "cb032745",
   "metadata": {
    "ExecuteTime": {
     "end_time": "2023-03-11T13:39:49.236750Z",
     "start_time": "2023-03-11T13:39:49.230025Z"
    }
   },
   "outputs": [
    {
     "data": {
      "text/plain": [
       "array([-0.50286385, -0.47429808, -0.43742954, -0.41992568, -0.41021245,\n",
       "       -0.40863565, -0.39827804, -0.28701388, -0.27095733, -0.24986411,\n",
       "       -0.23679054, -0.22868583, -0.22665895, -0.22598234, -0.1744057 ,\n",
       "       -0.16203307, -0.15168891, -0.14845583, -0.14153919, -0.14051946,\n",
       "       -0.13953078, -0.10544723, -0.09441083, -0.08753633, -0.08237459,\n",
       "       -0.07816629, -0.07726499, -0.07476082])"
      ]
     },
     "execution_count": 31,
     "metadata": {},
     "output_type": "execute_result"
    }
   ],
   "source": [
    "forest_grid.cv_results_[\"mean_test_score\"]"
   ]
  },
  {
   "cell_type": "code",
   "execution_count": 35,
   "id": "ee4d077a",
   "metadata": {
    "ExecuteTime": {
     "end_time": "2023-03-11T13:57:09.302021Z",
     "start_time": "2023-03-11T13:49:32.790445Z"
    }
   },
   "outputs": [
    {
     "name": "stdout",
     "output_type": "stream",
     "text": [
      "Random forest tune, RMSE = 0.004\n"
     ]
    }
   ],
   "source": [
    "rf = RandomForestRegressor(n_estimators = 200, random_state=random_state)\n",
    "rf.fit(X_train, y_train)\n",
    "rf_error = round(rmse(rf, X_val, y_val),3)\n",
    "\n",
    "print(f\"Random forest tune, RMSE = {rf_error}\");"
   ]
  },
  {
   "cell_type": "markdown",
   "id": "3818e0ef",
   "metadata": {},
   "source": [
    "*Tuning parameters doesn't gave us any advantage*"
   ]
  },
  {
   "cell_type": "markdown",
   "id": "ed772cd8",
   "metadata": {},
   "source": [
    "## Make a prediction"
   ]
  },
  {
   "cell_type": "code",
   "execution_count": 45,
   "id": "8dc44385",
   "metadata": {
    "ExecuteTime": {
     "end_time": "2023-03-11T14:04:06.024144Z",
     "start_time": "2023-03-11T14:04:05.518230Z"
    }
   },
   "outputs": [],
   "source": [
    "df_test['target'] = rf.predict(df_test)"
   ]
  },
  {
   "cell_type": "code",
   "execution_count": 46,
   "id": "b93db379",
   "metadata": {
    "ExecuteTime": {
     "end_time": "2023-03-11T14:04:07.520834Z",
     "start_time": "2023-03-11T14:04:07.502082Z"
    }
   },
   "outputs": [
    {
     "data": {
      "text/html": [
       "<div>\n",
       "<style scoped>\n",
       "    .dataframe tbody tr th:only-of-type {\n",
       "        vertical-align: middle;\n",
       "    }\n",
       "\n",
       "    .dataframe tbody tr th {\n",
       "        vertical-align: top;\n",
       "    }\n",
       "\n",
       "    .dataframe thead th {\n",
       "        text-align: right;\n",
       "    }\n",
       "</style>\n",
       "<table border=\"1\" class=\"dataframe\">\n",
       "  <thead>\n",
       "    <tr style=\"text-align: right;\">\n",
       "      <th></th>\n",
       "      <th>0</th>\n",
       "      <th>1</th>\n",
       "      <th>2</th>\n",
       "      <th>3</th>\n",
       "      <th>4</th>\n",
       "      <th>5</th>\n",
       "      <th>6</th>\n",
       "      <th>7</th>\n",
       "      <th>8</th>\n",
       "      <th>9</th>\n",
       "      <th>...</th>\n",
       "      <th>44</th>\n",
       "      <th>45</th>\n",
       "      <th>46</th>\n",
       "      <th>47</th>\n",
       "      <th>48</th>\n",
       "      <th>49</th>\n",
       "      <th>50</th>\n",
       "      <th>51</th>\n",
       "      <th>52</th>\n",
       "      <th>target</th>\n",
       "    </tr>\n",
       "  </thead>\n",
       "  <tbody>\n",
       "    <tr>\n",
       "      <th>0</th>\n",
       "      <td>259</td>\n",
       "      <td>388</td>\n",
       "      <td>402</td>\n",
       "      <td>340</td>\n",
       "      <td>156</td>\n",
       "      <td>382</td>\n",
       "      <td>3.316625</td>\n",
       "      <td>0.218760</td>\n",
       "      <td>1</td>\n",
       "      <td>164</td>\n",
       "      <td>...</td>\n",
       "      <td>10.227235</td>\n",
       "      <td>0.889111</td>\n",
       "      <td>9.190222</td>\n",
       "      <td>4.670908</td>\n",
       "      <td>0.931525</td>\n",
       "      <td>7.634177</td>\n",
       "      <td>0.158196</td>\n",
       "      <td>13.432551</td>\n",
       "      <td>2.511191</td>\n",
       "      <td>11.216294</td>\n",
       "    </tr>\n",
       "    <tr>\n",
       "      <th>1</th>\n",
       "      <td>441</td>\n",
       "      <td>192</td>\n",
       "      <td>381</td>\n",
       "      <td>421</td>\n",
       "      <td>452</td>\n",
       "      <td>123</td>\n",
       "      <td>-8.888194</td>\n",
       "      <td>0.700228</td>\n",
       "      <td>0</td>\n",
       "      <td>349</td>\n",
       "      <td>...</td>\n",
       "      <td>9.339161</td>\n",
       "      <td>4.221861</td>\n",
       "      <td>0.595563</td>\n",
       "      <td>13.865748</td>\n",
       "      <td>0.328453</td>\n",
       "      <td>11.507599</td>\n",
       "      <td>9.107966</td>\n",
       "      <td>1.302407</td>\n",
       "      <td>11.105604</td>\n",
       "      <td>79.702215</td>\n",
       "    </tr>\n",
       "    <tr>\n",
       "      <th>2</th>\n",
       "      <td>83</td>\n",
       "      <td>129</td>\n",
       "      <td>107</td>\n",
       "      <td>156</td>\n",
       "      <td>247</td>\n",
       "      <td>191</td>\n",
       "      <td>2.645751</td>\n",
       "      <td>0.494556</td>\n",
       "      <td>1</td>\n",
       "      <td>297</td>\n",
       "      <td>...</td>\n",
       "      <td>10.670237</td>\n",
       "      <td>10.350867</td>\n",
       "      <td>5.134417</td>\n",
       "      <td>5.898995</td>\n",
       "      <td>8.374986</td>\n",
       "      <td>4.638049</td>\n",
       "      <td>3.160023</td>\n",
       "      <td>2.243799</td>\n",
       "      <td>5.073030</td>\n",
       "      <td>7.497283</td>\n",
       "    </tr>\n",
       "    <tr>\n",
       "      <th>3</th>\n",
       "      <td>183</td>\n",
       "      <td>438</td>\n",
       "      <td>191</td>\n",
       "      <td>116</td>\n",
       "      <td>491</td>\n",
       "      <td>403</td>\n",
       "      <td>-6.164414</td>\n",
       "      <td>0.511117</td>\n",
       "      <td>0</td>\n",
       "      <td>272</td>\n",
       "      <td>...</td>\n",
       "      <td>12.782579</td>\n",
       "      <td>0.513072</td>\n",
       "      <td>0.321295</td>\n",
       "      <td>11.334062</td>\n",
       "      <td>11.735511</td>\n",
       "      <td>1.911520</td>\n",
       "      <td>8.365676</td>\n",
       "      <td>4.877288</td>\n",
       "      <td>11.601819</td>\n",
       "      <td>38.509440</td>\n",
       "    </tr>\n",
       "    <tr>\n",
       "      <th>4</th>\n",
       "      <td>449</td>\n",
       "      <td>156</td>\n",
       "      <td>310</td>\n",
       "      <td>188</td>\n",
       "      <td>279</td>\n",
       "      <td>465</td>\n",
       "      <td>8.000000</td>\n",
       "      <td>0.756416</td>\n",
       "      <td>1</td>\n",
       "      <td>90</td>\n",
       "      <td>...</td>\n",
       "      <td>1.140498</td>\n",
       "      <td>14.165074</td>\n",
       "      <td>7.688796</td>\n",
       "      <td>5.079241</td>\n",
       "      <td>8.152186</td>\n",
       "      <td>1.680403</td>\n",
       "      <td>13.215111</td>\n",
       "      <td>5.823109</td>\n",
       "      <td>1.038015</td>\n",
       "      <td>64.760704</td>\n",
       "    </tr>\n",
       "    <tr>\n",
       "      <th>...</th>\n",
       "      <td>...</td>\n",
       "      <td>...</td>\n",
       "      <td>...</td>\n",
       "      <td>...</td>\n",
       "      <td>...</td>\n",
       "      <td>...</td>\n",
       "      <td>...</td>\n",
       "      <td>...</td>\n",
       "      <td>...</td>\n",
       "      <td>...</td>\n",
       "      <td>...</td>\n",
       "      <td>...</td>\n",
       "      <td>...</td>\n",
       "      <td>...</td>\n",
       "      <td>...</td>\n",
       "      <td>...</td>\n",
       "      <td>...</td>\n",
       "      <td>...</td>\n",
       "      <td>...</td>\n",
       "      <td>...</td>\n",
       "      <td>...</td>\n",
       "    </tr>\n",
       "    <tr>\n",
       "      <th>9995</th>\n",
       "      <td>221</td>\n",
       "      <td>246</td>\n",
       "      <td>314</td>\n",
       "      <td>406</td>\n",
       "      <td>464</td>\n",
       "      <td>317</td>\n",
       "      <td>6.708204</td>\n",
       "      <td>0.436684</td>\n",
       "      <td>1</td>\n",
       "      <td>205</td>\n",
       "      <td>...</td>\n",
       "      <td>12.306512</td>\n",
       "      <td>7.778209</td>\n",
       "      <td>5.698493</td>\n",
       "      <td>10.023215</td>\n",
       "      <td>4.959409</td>\n",
       "      <td>4.056025</td>\n",
       "      <td>4.642375</td>\n",
       "      <td>4.533745</td>\n",
       "      <td>6.754558</td>\n",
       "      <td>45.439337</td>\n",
       "    </tr>\n",
       "    <tr>\n",
       "      <th>9996</th>\n",
       "      <td>152</td>\n",
       "      <td>157</td>\n",
       "      <td>32</td>\n",
       "      <td>133</td>\n",
       "      <td>369</td>\n",
       "      <td>261</td>\n",
       "      <td>5.656854</td>\n",
       "      <td>0.986208</td>\n",
       "      <td>1</td>\n",
       "      <td>457</td>\n",
       "      <td>...</td>\n",
       "      <td>13.176561</td>\n",
       "      <td>6.697370</td>\n",
       "      <td>4.119232</td>\n",
       "      <td>2.190155</td>\n",
       "      <td>14.555999</td>\n",
       "      <td>7.786794</td>\n",
       "      <td>9.414130</td>\n",
       "      <td>5.413161</td>\n",
       "      <td>4.134093</td>\n",
       "      <td>32.979569</td>\n",
       "    </tr>\n",
       "    <tr>\n",
       "      <th>9997</th>\n",
       "      <td>349</td>\n",
       "      <td>240</td>\n",
       "      <td>355</td>\n",
       "      <td>97</td>\n",
       "      <td>93</td>\n",
       "      <td>176</td>\n",
       "      <td>4.690416</td>\n",
       "      <td>0.830543</td>\n",
       "      <td>1</td>\n",
       "      <td>287</td>\n",
       "      <td>...</td>\n",
       "      <td>0.941523</td>\n",
       "      <td>3.555292</td>\n",
       "      <td>12.572057</td>\n",
       "      <td>7.058367</td>\n",
       "      <td>12.999451</td>\n",
       "      <td>1.901825</td>\n",
       "      <td>5.100031</td>\n",
       "      <td>1.498432</td>\n",
       "      <td>8.093801</td>\n",
       "      <td>22.827672</td>\n",
       "    </tr>\n",
       "    <tr>\n",
       "      <th>9998</th>\n",
       "      <td>427</td>\n",
       "      <td>70</td>\n",
       "      <td>63</td>\n",
       "      <td>265</td>\n",
       "      <td>62</td>\n",
       "      <td>150</td>\n",
       "      <td>4.000000</td>\n",
       "      <td>0.502337</td>\n",
       "      <td>1</td>\n",
       "      <td>124</td>\n",
       "      <td>...</td>\n",
       "      <td>1.593796</td>\n",
       "      <td>9.902159</td>\n",
       "      <td>2.548667</td>\n",
       "      <td>11.339210</td>\n",
       "      <td>14.192310</td>\n",
       "      <td>14.142207</td>\n",
       "      <td>9.966924</td>\n",
       "      <td>8.538981</td>\n",
       "      <td>7.036367</td>\n",
       "      <td>16.502501</td>\n",
       "    </tr>\n",
       "    <tr>\n",
       "      <th>9999</th>\n",
       "      <td>144</td>\n",
       "      <td>216</td>\n",
       "      <td>66</td>\n",
       "      <td>452</td>\n",
       "      <td>382</td>\n",
       "      <td>307</td>\n",
       "      <td>9.539392</td>\n",
       "      <td>0.986542</td>\n",
       "      <td>1</td>\n",
       "      <td>40</td>\n",
       "      <td>...</td>\n",
       "      <td>14.724772</td>\n",
       "      <td>3.093617</td>\n",
       "      <td>3.681825</td>\n",
       "      <td>11.427112</td>\n",
       "      <td>5.748047</td>\n",
       "      <td>8.053866</td>\n",
       "      <td>0.729627</td>\n",
       "      <td>0.767049</td>\n",
       "      <td>9.541795</td>\n",
       "      <td>91.982750</td>\n",
       "    </tr>\n",
       "  </tbody>\n",
       "</table>\n",
       "<p>10000 rows × 54 columns</p>\n",
       "</div>"
      ],
      "text/plain": [
       "        0    1    2    3    4    5         6         7  8    9  ...  \\\n",
       "0     259  388  402  340  156  382  3.316625  0.218760  1  164  ...   \n",
       "1     441  192  381  421  452  123 -8.888194  0.700228  0  349  ...   \n",
       "2      83  129  107  156  247  191  2.645751  0.494556  1  297  ...   \n",
       "3     183  438  191  116  491  403 -6.164414  0.511117  0  272  ...   \n",
       "4     449  156  310  188  279  465  8.000000  0.756416  1   90  ...   \n",
       "...   ...  ...  ...  ...  ...  ...       ...       ... ..  ...  ...   \n",
       "9995  221  246  314  406  464  317  6.708204  0.436684  1  205  ...   \n",
       "9996  152  157   32  133  369  261  5.656854  0.986208  1  457  ...   \n",
       "9997  349  240  355   97   93  176  4.690416  0.830543  1  287  ...   \n",
       "9998  427   70   63  265   62  150  4.000000  0.502337  1  124  ...   \n",
       "9999  144  216   66  452  382  307  9.539392  0.986542  1   40  ...   \n",
       "\n",
       "             44         45         46         47         48         49  \\\n",
       "0     10.227235   0.889111   9.190222   4.670908   0.931525   7.634177   \n",
       "1      9.339161   4.221861   0.595563  13.865748   0.328453  11.507599   \n",
       "2     10.670237  10.350867   5.134417   5.898995   8.374986   4.638049   \n",
       "3     12.782579   0.513072   0.321295  11.334062  11.735511   1.911520   \n",
       "4      1.140498  14.165074   7.688796   5.079241   8.152186   1.680403   \n",
       "...         ...        ...        ...        ...        ...        ...   \n",
       "9995  12.306512   7.778209   5.698493  10.023215   4.959409   4.056025   \n",
       "9996  13.176561   6.697370   4.119232   2.190155  14.555999   7.786794   \n",
       "9997   0.941523   3.555292  12.572057   7.058367  12.999451   1.901825   \n",
       "9998   1.593796   9.902159   2.548667  11.339210  14.192310  14.142207   \n",
       "9999  14.724772   3.093617   3.681825  11.427112   5.748047   8.053866   \n",
       "\n",
       "             50         51         52     target  \n",
       "0      0.158196  13.432551   2.511191  11.216294  \n",
       "1      9.107966   1.302407  11.105604  79.702215  \n",
       "2      3.160023   2.243799   5.073030   7.497283  \n",
       "3      8.365676   4.877288  11.601819  38.509440  \n",
       "4     13.215111   5.823109   1.038015  64.760704  \n",
       "...         ...        ...        ...        ...  \n",
       "9995   4.642375   4.533745   6.754558  45.439337  \n",
       "9996   9.414130   5.413161   4.134093  32.979569  \n",
       "9997   5.100031   1.498432   8.093801  22.827672  \n",
       "9998   9.966924   8.538981   7.036367  16.502501  \n",
       "9999   0.729627   0.767049   9.541795  91.982750  \n",
       "\n",
       "[10000 rows x 54 columns]"
      ]
     },
     "execution_count": 46,
     "metadata": {},
     "output_type": "execute_result"
    }
   ],
   "source": [
    "df_test"
   ]
  },
  {
   "cell_type": "code",
   "execution_count": 49,
   "id": "d5e01d63",
   "metadata": {
    "ExecuteTime": {
     "end_time": "2023-03-11T14:04:47.176544Z",
     "start_time": "2023-03-11T14:04:46.798683Z"
    }
   },
   "outputs": [],
   "source": [
    "df_test.to_csv('internship_prediction.csv', index=False)"
   ]
  }
 ],
 "metadata": {
  "kernelspec": {
   "display_name": "Python 3 (ipykernel)",
   "language": "python",
   "name": "python3"
  },
  "language_info": {
   "codemirror_mode": {
    "name": "ipython",
    "version": 3
   },
   "file_extension": ".py",
   "mimetype": "text/x-python",
   "name": "python",
   "nbconvert_exporter": "python",
   "pygments_lexer": "ipython3",
   "version": "3.10.6"
  },
  "toc": {
   "base_numbering": 1,
   "nav_menu": {},
   "number_sections": true,
   "sideBar": true,
   "skip_h1_title": false,
   "title_cell": "Table of Contents",
   "title_sidebar": "Contents",
   "toc_cell": false,
   "toc_position": {},
   "toc_section_display": true,
   "toc_window_display": false
  }
 },
 "nbformat": 4,
 "nbformat_minor": 5
}
